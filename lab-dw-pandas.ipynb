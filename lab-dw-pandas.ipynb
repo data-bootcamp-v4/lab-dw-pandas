{
 "cells": [
  {
   "cell_type": "markdown",
   "id": "25d7736c-ba17-4aff-b6bb-66eba20fbf4e",
   "metadata": {},
   "source": [
    "# Lab | Pandas"
   ]
  },
  {
   "cell_type": "markdown",
   "id": "34ae7c66-9458-477c-8a31-c6b07a36bf66",
   "metadata": {},
   "source": [
    "Objective: practice how to use the pandas library in Python for data analysis and manipulation."
   ]
  },
  {
   "cell_type": "markdown",
   "id": "d1973e9e-8be6-4039-b70e-d73ee0d94c99",
   "metadata": {},
   "source": [
    "In this lab, we will be working with the customer data from an insurance company, which can be found in the CSV file located at the following link: https://raw.githubusercontent.com/data-bootcamp-v4/data/main/file1.csv\n",
    "\n",
    "The data includes information such as customer ID, state, gender, education, income, and other variables that can be used to perform various analyses.\n",
    "\n",
    "Throughout the lab, we will be using the pandas library in Python to manipulate and analyze the data. Pandas is a powerful library that provides various data manipulation and analysis tools, including the ability to load and manipulate data from a variety of sources, including CSV files."
   ]
  },
  {
   "cell_type": "markdown",
   "id": "8045146f-f4f7-44d9-8cd9-130d6400c73a",
   "metadata": {},
   "source": [
    "### Data Description\n",
    "\n",
    "- Customer - Customer ID\n",
    "\n",
    "- ST - State where customers live\n",
    "\n",
    "- Gender - Gender of the customer\n",
    "\n",
    "- Education - Background education of customers \n",
    "\n",
    "- Customer Lifetime Value - Customer lifetime value(CLV) is the total revenue the client will derive from their entire relationship with a customer. In other words, is the predicted or calculated value of a customer over their entire duration as a policyholder with the insurance company. It is an estimation of the net profit that the insurance company expects to generate from a customer throughout their relationship with the company. Customer Lifetime Value takes into account factors such as the duration of the customer's policy, premium payments, claim history, renewal likelihood, and potential additional services or products the customer may purchase. It helps insurers assess the long-term profitability and value associated with retaining a particular customer.\n",
    "\n",
    "- Income - Customers income\n",
    "\n",
    "- Monthly Premium Auto - Amount of money the customer pays on a monthly basis as a premium for their auto insurance coverage. It represents the recurring cost that the insured person must pay to maintain their insurance policy and receive coverage for potential damages, accidents, or other covered events related to their vehicle.\n",
    "\n",
    "- Number of Open Complaints - Number of complaints the customer opened\n",
    "\n",
    "- Policy Type - There are three type of policies in car insurance (Corporate Auto, Personal Auto, and Special Auto)\n",
    "\n",
    "- Vehicle Class - Type of vehicle classes that customers have Two-Door Car, Four-Door Car SUV, Luxury SUV, Sports Car, and Luxury Car\n",
    "\n",
    "- Total Claim Amount - the sum of all claims made by the customer. It represents the total monetary value of all approved claims for incidents such as accidents, theft, vandalism, or other covered events.\n"
   ]
  },
  {
   "cell_type": "markdown",
   "id": "3a72419b-20fc-4905-817a-8c83abc59de6",
   "metadata": {},
   "source": [
    "External Resources: https://towardsdatascience.com/filtering-data-frames-in-pandas-b570b1f834b9"
   ]
  },
  {
   "cell_type": "markdown",
   "id": "8f8ece17-e919-4e23-96c0-c7c59778436a",
   "metadata": {},
   "source": [
    "## Challenge 1: Understanding the data\n",
    "\n",
    "In this challenge, you will use pandas to explore a given dataset. Your task is to gain a deep understanding of the data by analyzing its characteristics, dimensions, and statistical properties."
   ]
  },
  {
   "cell_type": "markdown",
   "id": "91437bd5-59a6-49c0-8150-ef0e6e6eb253",
   "metadata": {},
   "source": [
    "- Identify the dimensions of the dataset by determining the number of rows and columns it contains.\n",
    "- Determine the data types of each column and evaluate whether they are appropriate for the nature of the variable. You should also provide suggestions for fixing any incorrect data types.\n",
    "- Identify the number of unique values for each column and determine which columns appear to be categorical. You should also describe the unique values of each categorical column and the range of values for numerical columns, and give your insights.\n",
    "- Compute summary statistics such as mean, median, mode, standard deviation, and quartiles to understand the central tendency and distribution of the data for numerical columns. You should also provide your conclusions based on these summary statistics.\n",
    "- Compute summary statistics for categorical columns and providing your conclusions based on these statistics."
   ]
  },
  {
   "cell_type": "code",
   "execution_count": 39,
   "id": "dd4e8cd8-a6f6-486c-a5c4-1745b0c035f4",
   "metadata": {},
   "outputs": [
    {
     "name": "stdout",
     "output_type": "stream",
     "text": [
      "(1071, 11)\n",
      "Data types of each column:\n",
      "Customer                      object\n",
      "ST                            object\n",
      "GENDER                        object\n",
      "Education                     object\n",
      "Customer Lifetime Value       object\n",
      "Income                         int64\n",
      "Monthly Premium Auto         float64\n",
      "Number of Open Complaints     object\n",
      "Policy Type                   object\n",
      "Vehicle Class                 object\n",
      "Total Claim Amount           float64\n",
      "dtype: object\n"
     ]
    }
   ],
   "source": [
    "import pandas as pd \n",
    "import numpy as np\n",
    "\n",
    "file1 = pd.read_csv('customer.csv')\n",
    "# print(file1.head())\n",
    "print(file1.shape)\n",
    "data_types = file1.dtypes\n",
    "print(\"Data types of each column:\")\n",
    "print(data_types)\n",
    "\n",
    "# Data types are not correct for many columns, for example, LTV and number of open complaints should be a flot or integer \n",
    "\n",
    "# Categorical columns are ST, Gender, Education, Customer Lifetime value and Number of opened complaints (but shouldn't), Policy Type, Vehicle Class \n",
    "\n",
    "\n",
    "\n"
   ]
  },
  {
   "cell_type": "code",
   "execution_count": 40,
   "id": "88f6c303",
   "metadata": {},
   "outputs": [
    {
     "data": {
      "text/plain": [
       "Customer                       0\n",
       "ST                             0\n",
       "GENDER                       117\n",
       "Education                      0\n",
       "Customer Lifetime Value        3\n",
       "Income                         0\n",
       "Monthly Premium Auto           0\n",
       "Number of Open Complaints      0\n",
       "Policy Type                    0\n",
       "Vehicle Class                  0\n",
       "Total Claim Amount             0\n",
       "dtype: int64"
      ]
     },
     "execution_count": 40,
     "metadata": {},
     "output_type": "execute_result"
    }
   ],
   "source": [
    "file1.isna().sum()"
   ]
  },
  {
   "cell_type": "code",
   "execution_count": 41,
   "id": "ed36a63c",
   "metadata": {},
   "outputs": [],
   "source": [
    "file1 = file1[file1['Customer Lifetime Value'].isna()==False]\n"
   ]
  },
  {
   "cell_type": "code",
   "execution_count": 43,
   "id": "17562ce5",
   "metadata": {},
   "outputs": [
    {
     "data": {
      "text/html": [
       "<div>\n",
       "<style scoped>\n",
       "    .dataframe tbody tr th:only-of-type {\n",
       "        vertical-align: middle;\n",
       "    }\n",
       "\n",
       "    .dataframe tbody tr th {\n",
       "        vertical-align: top;\n",
       "    }\n",
       "\n",
       "    .dataframe thead th {\n",
       "        text-align: right;\n",
       "    }\n",
       "</style>\n",
       "<table border=\"1\" class=\"dataframe\">\n",
       "  <thead>\n",
       "    <tr style=\"text-align: right;\">\n",
       "      <th></th>\n",
       "      <th>header_name</th>\n",
       "      <th>percent_nulls</th>\n",
       "    </tr>\n",
       "  </thead>\n",
       "  <tbody>\n",
       "    <tr>\n",
       "      <th>0</th>\n",
       "      <td>Customer</td>\n",
       "      <td>0.00</td>\n",
       "    </tr>\n",
       "    <tr>\n",
       "      <th>1</th>\n",
       "      <td>ST</td>\n",
       "      <td>0.00</td>\n",
       "    </tr>\n",
       "    <tr>\n",
       "      <th>2</th>\n",
       "      <td>GENDER</td>\n",
       "      <td>10.86</td>\n",
       "    </tr>\n",
       "    <tr>\n",
       "      <th>3</th>\n",
       "      <td>Education</td>\n",
       "      <td>0.00</td>\n",
       "    </tr>\n",
       "    <tr>\n",
       "      <th>4</th>\n",
       "      <td>Customer Lifetime Value</td>\n",
       "      <td>0.00</td>\n",
       "    </tr>\n",
       "    <tr>\n",
       "      <th>5</th>\n",
       "      <td>Income</td>\n",
       "      <td>0.00</td>\n",
       "    </tr>\n",
       "    <tr>\n",
       "      <th>6</th>\n",
       "      <td>Monthly Premium Auto</td>\n",
       "      <td>0.00</td>\n",
       "    </tr>\n",
       "    <tr>\n",
       "      <th>7</th>\n",
       "      <td>Number of Open Complaints</td>\n",
       "      <td>0.00</td>\n",
       "    </tr>\n",
       "    <tr>\n",
       "      <th>8</th>\n",
       "      <td>Policy Type</td>\n",
       "      <td>0.00</td>\n",
       "    </tr>\n",
       "    <tr>\n",
       "      <th>9</th>\n",
       "      <td>Vehicle Class</td>\n",
       "      <td>0.00</td>\n",
       "    </tr>\n",
       "    <tr>\n",
       "      <th>10</th>\n",
       "      <td>Total Claim Amount</td>\n",
       "      <td>0.00</td>\n",
       "    </tr>\n",
       "  </tbody>\n",
       "</table>\n",
       "</div>"
      ],
      "text/plain": [
       "                  header_name  percent_nulls\n",
       "0                    Customer           0.00\n",
       "1                          ST           0.00\n",
       "2                      GENDER          10.86\n",
       "3                   Education           0.00\n",
       "4     Customer Lifetime Value           0.00\n",
       "5                      Income           0.00\n",
       "6        Monthly Premium Auto           0.00\n",
       "7   Number of Open Complaints           0.00\n",
       "8                 Policy Type           0.00\n",
       "9               Vehicle Class           0.00\n",
       "10         Total Claim Amount           0.00"
      ]
     },
     "execution_count": 43,
     "metadata": {},
     "output_type": "execute_result"
    }
   ],
   "source": [
    "# show % of nulls \n",
    "round(file1.isna().sum()/len(file1),4)*100\n",
    "nulls_df = pd.DataFrame(round(file1.isna().sum()/len(file1),4)*100)\n",
    "nulls_df\n",
    "nulls_df = nulls_df.reset_index()\n",
    "nulls_df\n",
    "nulls_df.columns = ['header_name', 'percent_nulls']\n",
    "nulls_df"
   ]
  },
  {
   "cell_type": "code",
   "execution_count": 44,
   "id": "043a5046",
   "metadata": {},
   "outputs": [],
   "source": [
    "# cleaning \n",
    "file1.to_csv('file1_clean.csv', index=False)"
   ]
  },
  {
   "cell_type": "code",
   "execution_count": 45,
   "id": "797af794",
   "metadata": {},
   "outputs": [],
   "source": [
    "file1_clean = pd.read_csv('file1_clean.csv')"
   ]
  },
  {
   "cell_type": "code",
   "execution_count": 46,
   "id": "66437953",
   "metadata": {},
   "outputs": [
    {
     "name": "stdout",
     "output_type": "stream",
     "text": [
      "Customer                      object\n",
      "ST                            object\n",
      "GENDER                        object\n",
      "Education                     object\n",
      "Customer Lifetime Value       object\n",
      "Income                         int64\n",
      "Monthly Premium Auto         float64\n",
      "Number of Open Complaints     object\n",
      "Policy Type                   object\n",
      "Vehicle Class                 object\n",
      "Total Claim Amount           float64\n",
      "dtype: object\n"
     ]
    }
   ],
   "source": [
    "data_types = file1_clean.dtypes\n",
    "\n",
    "print(data_types)"
   ]
  },
  {
   "cell_type": "code",
   "execution_count": 47,
   "id": "780c1bca",
   "metadata": {},
   "outputs": [],
   "source": [
    "#Convert LTV to a float\n",
    "file1_clean['Customer Lifetime Value'] = file1_clean['Customer Lifetime Value'].str.replace('%', '').astype(float)\n"
   ]
  },
  {
   "cell_type": "code",
   "execution_count": 48,
   "id": "b2fae68d",
   "metadata": {},
   "outputs": [],
   "source": [
    "# Convert the complaints into a number (float), assuming 1/2/0 = 3 complaints open\n",
    "def sum_and_convert_to_float(date_string):\n",
    "    parts = date_string.split('/')\n",
    "    sum_values = sum(map(int, parts))\n",
    "    return float(sum_values)\n",
    "file1_clean['Number of Open Complaints'] = file1_clean['Number of Open Complaints'].apply(sum_and_convert_to_float)\n"
   ]
  },
  {
   "cell_type": "code",
   "execution_count": 49,
   "id": "05b1e6dd",
   "metadata": {},
   "outputs": [
    {
     "data": {
      "text/plain": [
       "array(['F', 'M', nan, 'Femal', 'Male', 'female'], dtype=object)"
      ]
     },
     "execution_count": 49,
     "metadata": {},
     "output_type": "execute_result"
    }
   ],
   "source": [
    "#Get the unique values for Gender\n",
    "file1_clean[\"GENDER\"].unique()"
   ]
  },
  {
   "cell_type": "code",
   "execution_count": 50,
   "id": "e25c1b6e",
   "metadata": {},
   "outputs": [],
   "source": [
    "value_mapping = {\n",
    "    'Femal': 'F',\n",
    "    'Female': 'F',\n",
    "    \"female\": \"F\",\n",
    "    'M': 'M',\n",
    "    'Male': 'M',\n",
    "    pd.NA: 0,  \n",
    "    None: 0    \n",
    "}\n",
    "\n",
    "file1_clean['GENDER'] = file1_clean['GENDER'].replace(value_mapping)"
   ]
  },
  {
   "cell_type": "code",
   "execution_count": 51,
   "id": "928821ea",
   "metadata": {},
   "outputs": [
    {
     "data": {
      "text/html": [
       "<div>\n",
       "<style scoped>\n",
       "    .dataframe tbody tr th:only-of-type {\n",
       "        vertical-align: middle;\n",
       "    }\n",
       "\n",
       "    .dataframe tbody tr th {\n",
       "        vertical-align: top;\n",
       "    }\n",
       "\n",
       "    .dataframe thead th {\n",
       "        text-align: right;\n",
       "    }\n",
       "</style>\n",
       "<table border=\"1\" class=\"dataframe\">\n",
       "  <thead>\n",
       "    <tr style=\"text-align: right;\">\n",
       "      <th></th>\n",
       "      <th>Customer</th>\n",
       "      <th>ST</th>\n",
       "      <th>GENDER</th>\n",
       "      <th>Education</th>\n",
       "      <th>Customer Lifetime Value</th>\n",
       "      <th>Income</th>\n",
       "      <th>Monthly Premium Auto</th>\n",
       "      <th>Number of Open Complaints</th>\n",
       "      <th>Policy Type</th>\n",
       "      <th>Vehicle Class</th>\n",
       "      <th>Total Claim Amount</th>\n",
       "    </tr>\n",
       "  </thead>\n",
       "  <tbody>\n",
       "    <tr>\n",
       "      <th>0</th>\n",
       "      <td>QZ44356</td>\n",
       "      <td>Arizona</td>\n",
       "      <td>F</td>\n",
       "      <td>Bachelor</td>\n",
       "      <td>697953.59</td>\n",
       "      <td>0</td>\n",
       "      <td>94.0</td>\n",
       "      <td>1.0</td>\n",
       "      <td>Personal Auto</td>\n",
       "      <td>Four-Door Car</td>\n",
       "      <td>1131.464935</td>\n",
       "    </tr>\n",
       "    <tr>\n",
       "      <th>1</th>\n",
       "      <td>AI49188</td>\n",
       "      <td>Nevada</td>\n",
       "      <td>F</td>\n",
       "      <td>Bachelor</td>\n",
       "      <td>1288743.17</td>\n",
       "      <td>48767</td>\n",
       "      <td>108.0</td>\n",
       "      <td>1.0</td>\n",
       "      <td>Personal Auto</td>\n",
       "      <td>Two-Door Car</td>\n",
       "      <td>566.472247</td>\n",
       "    </tr>\n",
       "    <tr>\n",
       "      <th>2</th>\n",
       "      <td>WW63253</td>\n",
       "      <td>California</td>\n",
       "      <td>M</td>\n",
       "      <td>Bachelor</td>\n",
       "      <td>764586.18</td>\n",
       "      <td>0</td>\n",
       "      <td>106.0</td>\n",
       "      <td>1.0</td>\n",
       "      <td>Corporate Auto</td>\n",
       "      <td>SUV</td>\n",
       "      <td>529.881344</td>\n",
       "    </tr>\n",
       "    <tr>\n",
       "      <th>3</th>\n",
       "      <td>GA49547</td>\n",
       "      <td>Washington</td>\n",
       "      <td>M</td>\n",
       "      <td>High School or Below</td>\n",
       "      <td>536307.65</td>\n",
       "      <td>36357</td>\n",
       "      <td>68.0</td>\n",
       "      <td>1.0</td>\n",
       "      <td>Personal Auto</td>\n",
       "      <td>Four-Door Car</td>\n",
       "      <td>17.269323</td>\n",
       "    </tr>\n",
       "    <tr>\n",
       "      <th>4</th>\n",
       "      <td>OC83172</td>\n",
       "      <td>Oregon</td>\n",
       "      <td>F</td>\n",
       "      <td>Bachelor</td>\n",
       "      <td>825629.78</td>\n",
       "      <td>62902</td>\n",
       "      <td>69.0</td>\n",
       "      <td>1.0</td>\n",
       "      <td>Personal Auto</td>\n",
       "      <td>Two-Door Car</td>\n",
       "      <td>159.383042</td>\n",
       "    </tr>\n",
       "    <tr>\n",
       "      <th>...</th>\n",
       "      <td>...</td>\n",
       "      <td>...</td>\n",
       "      <td>...</td>\n",
       "      <td>...</td>\n",
       "      <td>...</td>\n",
       "      <td>...</td>\n",
       "      <td>...</td>\n",
       "      <td>...</td>\n",
       "      <td>...</td>\n",
       "      <td>...</td>\n",
       "      <td>...</td>\n",
       "    </tr>\n",
       "    <tr>\n",
       "      <th>1063</th>\n",
       "      <td>TM65736</td>\n",
       "      <td>Oregon</td>\n",
       "      <td>M</td>\n",
       "      <td>Master</td>\n",
       "      <td>305955.03</td>\n",
       "      <td>38644</td>\n",
       "      <td>78.0</td>\n",
       "      <td>2.0</td>\n",
       "      <td>Personal Auto</td>\n",
       "      <td>Four-Door Car</td>\n",
       "      <td>361.455219</td>\n",
       "    </tr>\n",
       "    <tr>\n",
       "      <th>1064</th>\n",
       "      <td>VJ51327</td>\n",
       "      <td>Cali</td>\n",
       "      <td>F</td>\n",
       "      <td>High School or Below</td>\n",
       "      <td>2031499.76</td>\n",
       "      <td>63209</td>\n",
       "      <td>102.0</td>\n",
       "      <td>3.0</td>\n",
       "      <td>Personal Auto</td>\n",
       "      <td>SUV</td>\n",
       "      <td>207.320041</td>\n",
       "    </tr>\n",
       "    <tr>\n",
       "      <th>1065</th>\n",
       "      <td>GS98873</td>\n",
       "      <td>Arizona</td>\n",
       "      <td>F</td>\n",
       "      <td>Bachelor</td>\n",
       "      <td>323912.47</td>\n",
       "      <td>16061</td>\n",
       "      <td>88.0</td>\n",
       "      <td>1.0</td>\n",
       "      <td>Personal Auto</td>\n",
       "      <td>Four-Door Car</td>\n",
       "      <td>633.600000</td>\n",
       "    </tr>\n",
       "    <tr>\n",
       "      <th>1066</th>\n",
       "      <td>CW49887</td>\n",
       "      <td>California</td>\n",
       "      <td>F</td>\n",
       "      <td>Master</td>\n",
       "      <td>462680.11</td>\n",
       "      <td>79487</td>\n",
       "      <td>114.0</td>\n",
       "      <td>1.0</td>\n",
       "      <td>Special Auto</td>\n",
       "      <td>SUV</td>\n",
       "      <td>547.200000</td>\n",
       "    </tr>\n",
       "    <tr>\n",
       "      <th>1067</th>\n",
       "      <td>MY31220</td>\n",
       "      <td>California</td>\n",
       "      <td>F</td>\n",
       "      <td>College</td>\n",
       "      <td>899704.02</td>\n",
       "      <td>54230</td>\n",
       "      <td>112.0</td>\n",
       "      <td>1.0</td>\n",
       "      <td>Personal Auto</td>\n",
       "      <td>Two-Door Car</td>\n",
       "      <td>537.600000</td>\n",
       "    </tr>\n",
       "  </tbody>\n",
       "</table>\n",
       "<p>1068 rows × 11 columns</p>\n",
       "</div>"
      ],
      "text/plain": [
       "     Customer          ST GENDER             Education  \\\n",
       "0     QZ44356     Arizona      F              Bachelor   \n",
       "1     AI49188      Nevada      F              Bachelor   \n",
       "2     WW63253  California      M              Bachelor   \n",
       "3     GA49547  Washington      M  High School or Below   \n",
       "4     OC83172      Oregon      F              Bachelor   \n",
       "...       ...         ...    ...                   ...   \n",
       "1063  TM65736      Oregon      M                Master   \n",
       "1064  VJ51327        Cali      F  High School or Below   \n",
       "1065  GS98873     Arizona      F              Bachelor   \n",
       "1066  CW49887  California      F                Master   \n",
       "1067  MY31220  California      F               College   \n",
       "\n",
       "      Customer Lifetime Value  Income  Monthly Premium Auto  \\\n",
       "0                   697953.59       0                  94.0   \n",
       "1                  1288743.17   48767                 108.0   \n",
       "2                   764586.18       0                 106.0   \n",
       "3                   536307.65   36357                  68.0   \n",
       "4                   825629.78   62902                  69.0   \n",
       "...                       ...     ...                   ...   \n",
       "1063                305955.03   38644                  78.0   \n",
       "1064               2031499.76   63209                 102.0   \n",
       "1065                323912.47   16061                  88.0   \n",
       "1066                462680.11   79487                 114.0   \n",
       "1067                899704.02   54230                 112.0   \n",
       "\n",
       "      Number of Open Complaints     Policy Type  Vehicle Class  \\\n",
       "0                           1.0   Personal Auto  Four-Door Car   \n",
       "1                           1.0   Personal Auto   Two-Door Car   \n",
       "2                           1.0  Corporate Auto            SUV   \n",
       "3                           1.0   Personal Auto  Four-Door Car   \n",
       "4                           1.0   Personal Auto   Two-Door Car   \n",
       "...                         ...             ...            ...   \n",
       "1063                        2.0   Personal Auto  Four-Door Car   \n",
       "1064                        3.0   Personal Auto            SUV   \n",
       "1065                        1.0   Personal Auto  Four-Door Car   \n",
       "1066                        1.0    Special Auto            SUV   \n",
       "1067                        1.0   Personal Auto   Two-Door Car   \n",
       "\n",
       "      Total Claim Amount  \n",
       "0            1131.464935  \n",
       "1             566.472247  \n",
       "2             529.881344  \n",
       "3              17.269323  \n",
       "4             159.383042  \n",
       "...                  ...  \n",
       "1063          361.455219  \n",
       "1064          207.320041  \n",
       "1065          633.600000  \n",
       "1066          547.200000  \n",
       "1067          537.600000  \n",
       "\n",
       "[1068 rows x 11 columns]"
      ]
     },
     "execution_count": 51,
     "metadata": {},
     "output_type": "execute_result"
    }
   ],
   "source": [
    "file1_clean"
   ]
  },
  {
   "cell_type": "code",
   "execution_count": 52,
   "id": "173ddef1",
   "metadata": {},
   "outputs": [],
   "source": [
    "#CLEAN CSV. 2\n",
    "file1_clean.to_csv('file1_terminator.csv', index=False)"
   ]
  },
  {
   "cell_type": "code",
   "execution_count": 53,
   "id": "3c85d1f8",
   "metadata": {},
   "outputs": [],
   "source": [
    "file1_terminator = pd.read_csv('file1_terminator.csv')"
   ]
  },
  {
   "cell_type": "code",
   "execution_count": 54,
   "id": "16be0d0f",
   "metadata": {},
   "outputs": [
    {
     "name": "stdout",
     "output_type": "stream",
     "text": [
      "Customer                     1068\n",
      "ST                              8\n",
      "GENDER                          3\n",
      "Education                       6\n",
      "Customer Lifetime Value      1027\n",
      "Income                        772\n",
      "Monthly Premium Auto          131\n",
      "Number of Open Complaints       6\n",
      "Policy Type                     3\n",
      "Vehicle Class                   6\n",
      "Total Claim Amount            758\n",
      "dtype: int64\n"
     ]
    }
   ],
   "source": [
    "unique_value_per_colum = file1_terminator.nunique()\n",
    "\n",
    "print(unique_value_per_colum)"
   ]
  },
  {
   "cell_type": "code",
   "execution_count": 55,
   "id": "5db2b5a2",
   "metadata": {},
   "outputs": [
    {
     "name": "stdout",
     "output_type": "stream",
     "text": [
      "Unique values for 'Customer': ['QZ44356' 'AI49188' 'WW63253' ... 'GS98873' 'CW49887' 'MY31220']\n",
      "Unique values for 'ST': ['Arizona' 'Nevada' 'California' 'Washington' 'Oregon' 'Cali' 'AZ' 'WA']\n",
      "Unique values for 'GENDER': ['F' 'M' '0']\n",
      "Unique values for 'Education': ['Bachelor' 'High School or Below' 'College' 'Master' 'Bachelors' 'Doctor']\n",
      "Unique values for 'Policy Type': ['Personal Auto' 'Corporate Auto' 'Special Auto']\n",
      "Unique values for 'Vehicle Class': ['Four-Door Car' 'Two-Door Car' 'SUV' 'Luxury SUV' 'Sports Car'\n",
      " 'Luxury Car']\n",
      "       Customer Lifetime Value        Income  Monthly Premium Auto  \\\n",
      "count             1.068000e+03   1068.000000           1068.000000   \n",
      "mean              7.936903e+05  39315.411985            192.691948   \n",
      "std               6.434784e+05  30484.373979           1603.241719   \n",
      "min               2.004351e+05      0.000000             61.000000   \n",
      "25%               4.034080e+05  14072.000000             68.000000   \n",
      "50%               5.881742e+05  36226.000000             82.500000   \n",
      "75%               8.962872e+05  64668.750000            109.250000   \n",
      "max               5.816655e+06  99960.000000          35354.000000   \n",
      "\n",
      "       Number of Open Complaints  Total Claim Amount  \n",
      "count                1068.000000         1068.000000  \n",
      "mean                    1.395131          405.870113  \n",
      "std                     0.884764          292.917158  \n",
      "min                     1.000000            0.382107  \n",
      "25%                     1.000000          204.071460  \n",
      "50%                     1.000000          355.200000  \n",
      "75%                     1.000000          532.800000  \n",
      "max                     6.000000         2893.239678  \n"
     ]
    }
   ],
   "source": [
    "categorical_columns = file1_terminator.columns[file1_terminator.dtypes == 'object']\n",
    "\n",
    "for col in categorical_columns:\n",
    "    unique_values = file1_terminator[col].unique()\n",
    "    print(f\"Unique values for '{col}': {unique_values}\")\n",
    "\n",
    "numerical_columns = file1_terminator.columns[file1_terminator.dtypes != 'object']\n",
    "numerical_description = file1_terminator[numerical_columns].describe()\n",
    "print(numerical_description)"
   ]
  },
  {
   "cell_type": "code",
   "execution_count": 57,
   "id": "c2ece92f",
   "metadata": {},
   "outputs": [
    {
     "name": "stdout",
     "output_type": "stream",
     "text": [
      "       Customer      ST GENDER Education    Policy Type  Vehicle Class\n",
      "count      1068    1068   1068      1068           1068           1068\n",
      "unique     1068       8      3         6              3              6\n",
      "top     QZ44356  Oregon      F  Bachelor  Personal Auto  Four-Door Car\n",
      "freq          1     320    501       324            777            573\n"
     ]
    }
   ],
   "source": [
    "categorical_summary = file1_terminator.describe (include = \"object\")\n",
    "print(categorical_summary)"
   ]
  },
  {
   "cell_type": "markdown",
   "id": "4a703890-63db-4944-b7ab-95a4f8185120",
   "metadata": {},
   "source": [
    "## Challenge 2: analyzing the data"
   ]
  },
  {
   "cell_type": "code",
   "execution_count": null,
   "id": "b53ea8d8",
   "metadata": {},
   "outputs": [],
   "source": []
  },
  {
   "cell_type": "markdown",
   "id": "0776a403-c56a-452f-ac33-5fd4fdb06fc7",
   "metadata": {},
   "source": [
    "### Exercise 1"
   ]
  },
  {
   "cell_type": "markdown",
   "id": "eedbc484-da4d-4f9c-9343-e1d44311a87e",
   "metadata": {},
   "source": [
    "The marketing team wants to know the top 5 less common customer locations. Create a pandas Series object that contains the customer locations and their frequencies, and then retrieve the top 5 less common locations in ascending order."
   ]
  },
  {
   "cell_type": "code",
   "execution_count": null,
   "id": "2dca5073-4520-4f42-9390-4b92733284ed",
   "metadata": {},
   "outputs": [],
   "source": [
    "# Your code here"
   ]
  },
  {
   "cell_type": "markdown",
   "id": "e8bc33e9-20fa-4852-8a96-acba1c802dd3",
   "metadata": {},
   "source": [
    "### Exercise 2\n"
   ]
  },
  {
   "cell_type": "markdown",
   "id": "feb47063-8ebb-4fa0-af2f-17a5c4cb1655",
   "metadata": {},
   "source": [
    "Your goal is to identify customers with a high policy claim amount.\n",
    "\n",
    "Instructions:\n",
    "\n",
    "- Review again the statistics for total claim amount to gain an understanding of the data.\n",
    "- To identify potential areas for improving customer retention and profitability, we want to focus on customers with a high policy claim amount. Consider customers with a high policy claim amount to be those in the top 25% of the total claim amount. Create a pandas DataFrame object that contains information about customers with a policy claim amount greater than the 75th percentile.\n",
    "- Use DataFrame methods to calculate summary statistics about the high policy claim amount data. "
   ]
  },
  {
   "cell_type": "markdown",
   "id": "9117fa27-7104-4b3d-b788-c554c63cd0b9",
   "metadata": {},
   "source": [
    "*Note: When analyzing data, we often want to focus on certain groups of values to gain insights. Percentiles are a useful tool to help us define these groups. A percentile is a measure that tells us what percentage of values in a dataset are below a certain value. For example, the 75th percentile represents the value below which 75% of the data falls. Similarly, the 25th percentile represents the value below which 25% of the data falls. When we talk about the top 25%, we are referring to the values that fall above the 75th percentile, which represent the top quarter of the data. On the other hand, when we talk about the bottom 25%, we are referring to the values that fall below the 25th percentile, which represent the bottom quarter of the data. By focusing on these groups, we can identify patterns and trends that may be useful for making decisions and taking action.*\n",
    "\n",
    "*Hint: look for a method that gives you the percentile or quantile 0.75 and 0.25 for a Pandas Series.*"
   ]
  },
  {
   "cell_type": "markdown",
   "id": "4b323dc6-b7db-4d33-8e11-abf5e7ac93f5",
   "metadata": {},
   "source": [
    "*Hint 2: check `Boolean selection according to the values of a single column` in https://towardsdatascience.com/filtering-data-frames-in-pandas-b570b1f834b9*"
   ]
  },
  {
   "cell_type": "code",
   "execution_count": null,
   "id": "b731bca6-a760-4860-a27b-a33efa712ce0",
   "metadata": {},
   "outputs": [],
   "source": [
    "# Your code here"
   ]
  },
  {
   "cell_type": "markdown",
   "id": "0ce80f43-4afa-43c7-a78a-c917444da4e0",
   "metadata": {},
   "source": [
    "### Exercise 3\n",
    "\n",
    "The sales team wants to know the total number of policies sold for each type of policy. Create a pandas Series object that contains the policy types and their total number of policies sold, and then retrieve the policy type with the highest number of policies sold."
   ]
  },
  {
   "cell_type": "markdown",
   "id": "a9f13997-1555-4f98-aca6-970fda1d2c3f",
   "metadata": {},
   "source": [
    "*Hint:*\n",
    "- *Using value_counts() method simplifies this analysis.*\n",
    "- *Futhermore, there is a method that returns the index of the maximum value in a column or row.*\n"
   ]
  },
  {
   "cell_type": "code",
   "execution_count": null,
   "id": "bcfad6c1-9af2-4b0b-9aa9-0dc5c17473c0",
   "metadata": {},
   "outputs": [],
   "source": [
    "# Your code here"
   ]
  },
  {
   "cell_type": "markdown",
   "id": "0b863fd3-bf91-4d5d-86eb-be29ed9f5b70",
   "metadata": {},
   "source": [
    "### Exercise 4\n",
    "\n",
    "The sales team wants to know if customers with Personal Auto have a income than those with Corporate Auto. How does the average income compare between the two policy types?"
   ]
  },
  {
   "cell_type": "markdown",
   "id": "b1386d75-2810-4aa1-93e0-9485aa12d552",
   "metadata": {},
   "source": [
    "- Use *loc* to create two dataframes: one containing only Personal Auto policies and one containing only Corporate Auto policies.\n",
    "- Calculate the average income for each policy.\n",
    "- Print the results."
   ]
  },
  {
   "cell_type": "code",
   "execution_count": null,
   "id": "0c0563cf-6f8b-463d-a321-651a972f82e5",
   "metadata": {},
   "outputs": [],
   "source": [
    "# Your code here"
   ]
  }
 ],
 "metadata": {
  "kernelspec": {
   "display_name": "Python 3 (ipykernel)",
   "language": "python",
   "name": "python3"
  },
  "language_info": {
   "codemirror_mode": {
    "name": "ipython",
    "version": 3
   },
   "file_extension": ".py",
   "mimetype": "text/x-python",
   "name": "python",
   "nbconvert_exporter": "python",
   "pygments_lexer": "ipython3",
   "version": "3.10.9"
  }
 },
 "nbformat": 4,
 "nbformat_minor": 5
}
